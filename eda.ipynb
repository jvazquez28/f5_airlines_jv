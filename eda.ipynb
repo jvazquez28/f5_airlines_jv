{
 "cells": [
  {
   "cell_type": "markdown",
   "metadata": {},
   "source": [
    "# Predicting Passenger Satisfaction for F5 Airlines: A Data-Driven Approach\n",
    "This project aims to develop a model that accurately predicts passenger satisfaction for F5 Airlines. Understanding the factors that drive satisfaction is crucial for the airline to improve its services and enhance customer experience.\n",
    "\n",
    "Our Approach:\n",
    "\n",
    "We will employ a data-driven approach, starting with a thorough Exploratory Data Analysis (EDA). This crucial first step will involve:\n",
    "\n",
    "*Data Cleaning: Identifying and handling missing values, outliers, and inconsistencies in the dataset.\n",
    "*Descriptive Statistics: Calculating key summary statistics (mean, median, standard deviation, etc.) to understand the distribution and central tendencies of different variables.\n",
    "*Data Visualization: Creating insightful visualizations (histograms, scatter plots, box plots, etc.) to uncover patterns, relationships, and potential insights hidden within the data.\n",
    "*Feature Engineering: Exploring potential new features from existing ones to enhance model accuracy and interpretability.\n",
    "By thoroughly understanding the data through EDA, we can identify key factors influencing passenger satisfaction and build a robust and accurate predictive model. This model will empower F5 Airlines to make data-driven decisions, optimize its services, and ultimately, enhance passenger satisfaction."
   ]
  },
  {
   "cell_type": "markdown",
   "metadata": {},
   "source": [
    "### Import libraries"
   ]
  },
  {
   "cell_type": "code",
   "execution_count": 1,
   "metadata": {},
   "outputs": [],
   "source": [
    "import pandas as pd\n",
    "import numpy as np\n",
    "import matplotlib.pyplot as plt\n",
    "import seaborn as sns"
   ]
  },
  {
   "cell_type": "markdown",
   "metadata": {},
   "source": [
    "### EDA custom functions (originally extracted from Spaceship Titanic)"
   ]
  },
  {
   "cell_type": "code",
   "execution_count": 17,
   "metadata": {},
   "outputs": [],
   "source": [
    "def plot_categorical_barh(df: pd.DataFrame, \n",
    "                     col: str, \n",
    "                     title: str,\n",
    "                     figsize: tuple = (10,5),\n",
    "                     color: list = ['b']) -> None:\n",
    "  '''Generate hbar plot of one categorical dataframe feature\n",
    "\n",
    "  Args:\n",
    "    df: pandas DataFrame containing the data \n",
    "    col: categorical column to produce the barh chart \n",
    "    title: title of the barh chart \n",
    "    figsize: tuple containing chart dimensions; defaults to (10,5)\n",
    "    color: chart color; defaults to blue \n",
    "\n",
    "  Returns:\n",
    "    no object returned; plots the barh chart \n",
    "  '''\n",
    "  (\n",
    "    df[col]\n",
    "    .value_counts(normalize=True)\n",
    "    .sort_values(ascending=True)\n",
    "    .plot(kind='barh',\n",
    "          figsize=figsize,\n",
    "          title=title,\n",
    "          color=color)\n",
    "  )\n",
    "\n",
    "  plt.show()\n"
   ]
  },
  {
   "cell_type": "code",
   "execution_count": 25,
   "metadata": {},
   "outputs": [],
   "source": [
    "def plot_satisfaction_pct(df: pd.DataFrame, \n",
    "                        col: str, \n",
    "                        title: str,\n",
    "                        figsize: tuple = (10,5),\n",
    "                        color: str = 'r') -> None:\n",
    "    \n",
    "  '''Generate a horizontal bar chart of satisfaction percentage for a category\n",
    "\n",
    "  Args:\n",
    "    df: pandas dataframe containing the data \n",
    "    col: column to analyze satisfaction percentage \n",
    "\n",
    "  Returns:\n",
    "    None; plots a chart of the pct of satisfied passengers\n",
    "  '''\n",
    "\n",
    "  (\n",
    "    df[[col, 'satisfaction']]\n",
    "    .replace({'satisfaction': {'neutral or dissatisfied': 0, 'satisfied': 1}})\n",
    "    .groupby(col)\n",
    "    .agg('mean')\n",
    "    .sort_values('satisfaction')\n",
    "    .plot(kind='barh',\n",
    "          figsize=figsize,\n",
    "          color = color,\n",
    "          title=title)\n",
    "  )\n",
    "  plt.show()\n"
   ]
  },
  {
   "cell_type": "markdown",
   "metadata": {},
   "source": [
    "### Importar los datos originales a un dataframe de pandas"
   ]
  },
  {
   "cell_type": "code",
   "execution_count": 2,
   "metadata": {},
   "outputs": [],
   "source": [
    "# read in the data\n",
    "df = pd.read_csv('data/airline_passenger_satisfaction.csv')"
   ]
  },
  {
   "cell_type": "markdown",
   "metadata": {},
   "source": [
    "## Comenzamos el EDA"
   ]
  },
  {
   "cell_type": "code",
   "execution_count": 11,
   "metadata": {},
   "outputs": [
    {
     "data": {
      "text/plain": [
       "(103904, 25)"
      ]
     },
     "execution_count": 11,
     "metadata": {},
     "output_type": "execute_result"
    }
   ],
   "source": [
    "df.shape"
   ]
  },
  {
   "cell_type": "code",
   "execution_count": 12,
   "metadata": {},
   "outputs": [
    {
     "data": {
      "text/html": [
       "<div>\n",
       "<style scoped>\n",
       "    .dataframe tbody tr th:only-of-type {\n",
       "        vertical-align: middle;\n",
       "    }\n",
       "\n",
       "    .dataframe tbody tr th {\n",
       "        vertical-align: top;\n",
       "    }\n",
       "\n",
       "    .dataframe thead th {\n",
       "        text-align: right;\n",
       "    }\n",
       "</style>\n",
       "<table border=\"1\" class=\"dataframe\">\n",
       "  <thead>\n",
       "    <tr style=\"text-align: right;\">\n",
       "      <th></th>\n",
       "      <th>Unnamed: 0</th>\n",
       "      <th>id</th>\n",
       "      <th>Gender</th>\n",
       "      <th>Customer Type</th>\n",
       "      <th>Age</th>\n",
       "      <th>Type of Travel</th>\n",
       "      <th>Class</th>\n",
       "      <th>Flight Distance</th>\n",
       "      <th>Inflight wifi service</th>\n",
       "      <th>Departure/Arrival time convenient</th>\n",
       "      <th>...</th>\n",
       "      <th>Inflight entertainment</th>\n",
       "      <th>On-board service</th>\n",
       "      <th>Leg room service</th>\n",
       "      <th>Baggage handling</th>\n",
       "      <th>Checkin service</th>\n",
       "      <th>Inflight service</th>\n",
       "      <th>Cleanliness</th>\n",
       "      <th>Departure Delay in Minutes</th>\n",
       "      <th>Arrival Delay in Minutes</th>\n",
       "      <th>satisfaction</th>\n",
       "    </tr>\n",
       "  </thead>\n",
       "  <tbody>\n",
       "    <tr>\n",
       "      <th>0</th>\n",
       "      <td>0</td>\n",
       "      <td>70172</td>\n",
       "      <td>Male</td>\n",
       "      <td>Loyal Customer</td>\n",
       "      <td>13</td>\n",
       "      <td>Personal Travel</td>\n",
       "      <td>Eco Plus</td>\n",
       "      <td>460</td>\n",
       "      <td>3</td>\n",
       "      <td>4</td>\n",
       "      <td>...</td>\n",
       "      <td>5</td>\n",
       "      <td>4</td>\n",
       "      <td>3</td>\n",
       "      <td>4</td>\n",
       "      <td>4</td>\n",
       "      <td>5</td>\n",
       "      <td>5</td>\n",
       "      <td>25</td>\n",
       "      <td>18.0</td>\n",
       "      <td>neutral or dissatisfied</td>\n",
       "    </tr>\n",
       "    <tr>\n",
       "      <th>1</th>\n",
       "      <td>1</td>\n",
       "      <td>5047</td>\n",
       "      <td>Male</td>\n",
       "      <td>disloyal Customer</td>\n",
       "      <td>25</td>\n",
       "      <td>Business travel</td>\n",
       "      <td>Business</td>\n",
       "      <td>235</td>\n",
       "      <td>3</td>\n",
       "      <td>2</td>\n",
       "      <td>...</td>\n",
       "      <td>1</td>\n",
       "      <td>1</td>\n",
       "      <td>5</td>\n",
       "      <td>3</td>\n",
       "      <td>1</td>\n",
       "      <td>4</td>\n",
       "      <td>1</td>\n",
       "      <td>1</td>\n",
       "      <td>6.0</td>\n",
       "      <td>neutral or dissatisfied</td>\n",
       "    </tr>\n",
       "    <tr>\n",
       "      <th>2</th>\n",
       "      <td>2</td>\n",
       "      <td>110028</td>\n",
       "      <td>Female</td>\n",
       "      <td>Loyal Customer</td>\n",
       "      <td>26</td>\n",
       "      <td>Business travel</td>\n",
       "      <td>Business</td>\n",
       "      <td>1142</td>\n",
       "      <td>2</td>\n",
       "      <td>2</td>\n",
       "      <td>...</td>\n",
       "      <td>5</td>\n",
       "      <td>4</td>\n",
       "      <td>3</td>\n",
       "      <td>4</td>\n",
       "      <td>4</td>\n",
       "      <td>4</td>\n",
       "      <td>5</td>\n",
       "      <td>0</td>\n",
       "      <td>0.0</td>\n",
       "      <td>satisfied</td>\n",
       "    </tr>\n",
       "    <tr>\n",
       "      <th>3</th>\n",
       "      <td>3</td>\n",
       "      <td>24026</td>\n",
       "      <td>Female</td>\n",
       "      <td>Loyal Customer</td>\n",
       "      <td>25</td>\n",
       "      <td>Business travel</td>\n",
       "      <td>Business</td>\n",
       "      <td>562</td>\n",
       "      <td>2</td>\n",
       "      <td>5</td>\n",
       "      <td>...</td>\n",
       "      <td>2</td>\n",
       "      <td>2</td>\n",
       "      <td>5</td>\n",
       "      <td>3</td>\n",
       "      <td>1</td>\n",
       "      <td>4</td>\n",
       "      <td>2</td>\n",
       "      <td>11</td>\n",
       "      <td>9.0</td>\n",
       "      <td>neutral or dissatisfied</td>\n",
       "    </tr>\n",
       "    <tr>\n",
       "      <th>4</th>\n",
       "      <td>4</td>\n",
       "      <td>119299</td>\n",
       "      <td>Male</td>\n",
       "      <td>Loyal Customer</td>\n",
       "      <td>61</td>\n",
       "      <td>Business travel</td>\n",
       "      <td>Business</td>\n",
       "      <td>214</td>\n",
       "      <td>3</td>\n",
       "      <td>3</td>\n",
       "      <td>...</td>\n",
       "      <td>3</td>\n",
       "      <td>3</td>\n",
       "      <td>4</td>\n",
       "      <td>4</td>\n",
       "      <td>3</td>\n",
       "      <td>3</td>\n",
       "      <td>3</td>\n",
       "      <td>0</td>\n",
       "      <td>0.0</td>\n",
       "      <td>satisfied</td>\n",
       "    </tr>\n",
       "  </tbody>\n",
       "</table>\n",
       "<p>5 rows × 25 columns</p>\n",
       "</div>"
      ],
      "text/plain": [
       "   Unnamed: 0      id  Gender      Customer Type  Age   Type of Travel  \\\n",
       "0           0   70172    Male     Loyal Customer   13  Personal Travel   \n",
       "1           1    5047    Male  disloyal Customer   25  Business travel   \n",
       "2           2  110028  Female     Loyal Customer   26  Business travel   \n",
       "3           3   24026  Female     Loyal Customer   25  Business travel   \n",
       "4           4  119299    Male     Loyal Customer   61  Business travel   \n",
       "\n",
       "      Class  Flight Distance  Inflight wifi service  \\\n",
       "0  Eco Plus              460                      3   \n",
       "1  Business              235                      3   \n",
       "2  Business             1142                      2   \n",
       "3  Business              562                      2   \n",
       "4  Business              214                      3   \n",
       "\n",
       "   Departure/Arrival time convenient  ...  Inflight entertainment  \\\n",
       "0                                  4  ...                       5   \n",
       "1                                  2  ...                       1   \n",
       "2                                  2  ...                       5   \n",
       "3                                  5  ...                       2   \n",
       "4                                  3  ...                       3   \n",
       "\n",
       "   On-board service  Leg room service  Baggage handling  Checkin service  \\\n",
       "0                 4                 3                 4                4   \n",
       "1                 1                 5                 3                1   \n",
       "2                 4                 3                 4                4   \n",
       "3                 2                 5                 3                1   \n",
       "4                 3                 4                 4                3   \n",
       "\n",
       "   Inflight service  Cleanliness  Departure Delay in Minutes  \\\n",
       "0                 5            5                          25   \n",
       "1                 4            1                           1   \n",
       "2                 4            5                           0   \n",
       "3                 4            2                          11   \n",
       "4                 3            3                           0   \n",
       "\n",
       "   Arrival Delay in Minutes             satisfaction  \n",
       "0                      18.0  neutral or dissatisfied  \n",
       "1                       6.0  neutral or dissatisfied  \n",
       "2                       0.0                satisfied  \n",
       "3                       9.0  neutral or dissatisfied  \n",
       "4                       0.0                satisfied  \n",
       "\n",
       "[5 rows x 25 columns]"
      ]
     },
     "execution_count": 12,
     "metadata": {},
     "output_type": "execute_result"
    }
   ],
   "source": [
    "df.head()"
   ]
  },
  {
   "cell_type": "markdown",
   "metadata": {},
   "source": [
    "### Estadísticas descriptivas"
   ]
  },
  {
   "cell_type": "markdown",
   "metadata": {},
   "source": [
    "#### Análisis cuántitativo"
   ]
  },
  {
   "cell_type": "code",
   "execution_count": 7,
   "metadata": {},
   "outputs": [
    {
     "data": {
      "text/html": [
       "<div>\n",
       "<style scoped>\n",
       "    .dataframe tbody tr th:only-of-type {\n",
       "        vertical-align: middle;\n",
       "    }\n",
       "\n",
       "    .dataframe tbody tr th {\n",
       "        vertical-align: top;\n",
       "    }\n",
       "\n",
       "    .dataframe thead th {\n",
       "        text-align: right;\n",
       "    }\n",
       "</style>\n",
       "<table border=\"1\" class=\"dataframe\">\n",
       "  <thead>\n",
       "    <tr style=\"text-align: right;\">\n",
       "      <th></th>\n",
       "      <th>count</th>\n",
       "      <th>mean</th>\n",
       "      <th>std</th>\n",
       "      <th>min</th>\n",
       "      <th>25%</th>\n",
       "      <th>50%</th>\n",
       "      <th>75%</th>\n",
       "      <th>max</th>\n",
       "    </tr>\n",
       "  </thead>\n",
       "  <tbody>\n",
       "    <tr>\n",
       "      <th>Unnamed: 0</th>\n",
       "      <td>103904.0</td>\n",
       "      <td>51952.0</td>\n",
       "      <td>29995.0</td>\n",
       "      <td>0.0</td>\n",
       "      <td>25976.0</td>\n",
       "      <td>51952.0</td>\n",
       "      <td>77927.0</td>\n",
       "      <td>103903.0</td>\n",
       "    </tr>\n",
       "    <tr>\n",
       "      <th>id</th>\n",
       "      <td>103904.0</td>\n",
       "      <td>64924.0</td>\n",
       "      <td>37464.0</td>\n",
       "      <td>1.0</td>\n",
       "      <td>32534.0</td>\n",
       "      <td>64856.0</td>\n",
       "      <td>97368.0</td>\n",
       "      <td>129880.0</td>\n",
       "    </tr>\n",
       "    <tr>\n",
       "      <th>Age</th>\n",
       "      <td>103904.0</td>\n",
       "      <td>39.0</td>\n",
       "      <td>15.0</td>\n",
       "      <td>7.0</td>\n",
       "      <td>27.0</td>\n",
       "      <td>40.0</td>\n",
       "      <td>51.0</td>\n",
       "      <td>85.0</td>\n",
       "    </tr>\n",
       "    <tr>\n",
       "      <th>Flight Distance</th>\n",
       "      <td>103904.0</td>\n",
       "      <td>1189.0</td>\n",
       "      <td>997.0</td>\n",
       "      <td>31.0</td>\n",
       "      <td>414.0</td>\n",
       "      <td>843.0</td>\n",
       "      <td>1743.0</td>\n",
       "      <td>4983.0</td>\n",
       "    </tr>\n",
       "    <tr>\n",
       "      <th>Inflight wifi service</th>\n",
       "      <td>103904.0</td>\n",
       "      <td>3.0</td>\n",
       "      <td>1.0</td>\n",
       "      <td>0.0</td>\n",
       "      <td>2.0</td>\n",
       "      <td>3.0</td>\n",
       "      <td>4.0</td>\n",
       "      <td>5.0</td>\n",
       "    </tr>\n",
       "    <tr>\n",
       "      <th>Departure/Arrival time convenient</th>\n",
       "      <td>103904.0</td>\n",
       "      <td>3.0</td>\n",
       "      <td>2.0</td>\n",
       "      <td>0.0</td>\n",
       "      <td>2.0</td>\n",
       "      <td>3.0</td>\n",
       "      <td>4.0</td>\n",
       "      <td>5.0</td>\n",
       "    </tr>\n",
       "    <tr>\n",
       "      <th>Ease of Online booking</th>\n",
       "      <td>103904.0</td>\n",
       "      <td>3.0</td>\n",
       "      <td>1.0</td>\n",
       "      <td>0.0</td>\n",
       "      <td>2.0</td>\n",
       "      <td>3.0</td>\n",
       "      <td>4.0</td>\n",
       "      <td>5.0</td>\n",
       "    </tr>\n",
       "    <tr>\n",
       "      <th>Gate location</th>\n",
       "      <td>103904.0</td>\n",
       "      <td>3.0</td>\n",
       "      <td>1.0</td>\n",
       "      <td>0.0</td>\n",
       "      <td>2.0</td>\n",
       "      <td>3.0</td>\n",
       "      <td>4.0</td>\n",
       "      <td>5.0</td>\n",
       "    </tr>\n",
       "    <tr>\n",
       "      <th>Food and drink</th>\n",
       "      <td>103904.0</td>\n",
       "      <td>3.0</td>\n",
       "      <td>1.0</td>\n",
       "      <td>0.0</td>\n",
       "      <td>2.0</td>\n",
       "      <td>3.0</td>\n",
       "      <td>4.0</td>\n",
       "      <td>5.0</td>\n",
       "    </tr>\n",
       "    <tr>\n",
       "      <th>Online boarding</th>\n",
       "      <td>103904.0</td>\n",
       "      <td>3.0</td>\n",
       "      <td>1.0</td>\n",
       "      <td>0.0</td>\n",
       "      <td>2.0</td>\n",
       "      <td>3.0</td>\n",
       "      <td>4.0</td>\n",
       "      <td>5.0</td>\n",
       "    </tr>\n",
       "    <tr>\n",
       "      <th>Seat comfort</th>\n",
       "      <td>103904.0</td>\n",
       "      <td>3.0</td>\n",
       "      <td>1.0</td>\n",
       "      <td>0.0</td>\n",
       "      <td>2.0</td>\n",
       "      <td>4.0</td>\n",
       "      <td>5.0</td>\n",
       "      <td>5.0</td>\n",
       "    </tr>\n",
       "    <tr>\n",
       "      <th>Inflight entertainment</th>\n",
       "      <td>103904.0</td>\n",
       "      <td>3.0</td>\n",
       "      <td>1.0</td>\n",
       "      <td>0.0</td>\n",
       "      <td>2.0</td>\n",
       "      <td>4.0</td>\n",
       "      <td>4.0</td>\n",
       "      <td>5.0</td>\n",
       "    </tr>\n",
       "    <tr>\n",
       "      <th>On-board service</th>\n",
       "      <td>103904.0</td>\n",
       "      <td>3.0</td>\n",
       "      <td>1.0</td>\n",
       "      <td>0.0</td>\n",
       "      <td>2.0</td>\n",
       "      <td>4.0</td>\n",
       "      <td>4.0</td>\n",
       "      <td>5.0</td>\n",
       "    </tr>\n",
       "    <tr>\n",
       "      <th>Leg room service</th>\n",
       "      <td>103904.0</td>\n",
       "      <td>3.0</td>\n",
       "      <td>1.0</td>\n",
       "      <td>0.0</td>\n",
       "      <td>2.0</td>\n",
       "      <td>4.0</td>\n",
       "      <td>4.0</td>\n",
       "      <td>5.0</td>\n",
       "    </tr>\n",
       "    <tr>\n",
       "      <th>Baggage handling</th>\n",
       "      <td>103904.0</td>\n",
       "      <td>4.0</td>\n",
       "      <td>1.0</td>\n",
       "      <td>1.0</td>\n",
       "      <td>3.0</td>\n",
       "      <td>4.0</td>\n",
       "      <td>5.0</td>\n",
       "      <td>5.0</td>\n",
       "    </tr>\n",
       "    <tr>\n",
       "      <th>Checkin service</th>\n",
       "      <td>103904.0</td>\n",
       "      <td>3.0</td>\n",
       "      <td>1.0</td>\n",
       "      <td>0.0</td>\n",
       "      <td>3.0</td>\n",
       "      <td>3.0</td>\n",
       "      <td>4.0</td>\n",
       "      <td>5.0</td>\n",
       "    </tr>\n",
       "    <tr>\n",
       "      <th>Inflight service</th>\n",
       "      <td>103904.0</td>\n",
       "      <td>4.0</td>\n",
       "      <td>1.0</td>\n",
       "      <td>0.0</td>\n",
       "      <td>3.0</td>\n",
       "      <td>4.0</td>\n",
       "      <td>5.0</td>\n",
       "      <td>5.0</td>\n",
       "    </tr>\n",
       "    <tr>\n",
       "      <th>Cleanliness</th>\n",
       "      <td>103904.0</td>\n",
       "      <td>3.0</td>\n",
       "      <td>1.0</td>\n",
       "      <td>0.0</td>\n",
       "      <td>2.0</td>\n",
       "      <td>3.0</td>\n",
       "      <td>4.0</td>\n",
       "      <td>5.0</td>\n",
       "    </tr>\n",
       "    <tr>\n",
       "      <th>Departure Delay in Minutes</th>\n",
       "      <td>103904.0</td>\n",
       "      <td>15.0</td>\n",
       "      <td>38.0</td>\n",
       "      <td>0.0</td>\n",
       "      <td>0.0</td>\n",
       "      <td>0.0</td>\n",
       "      <td>12.0</td>\n",
       "      <td>1592.0</td>\n",
       "    </tr>\n",
       "    <tr>\n",
       "      <th>Arrival Delay in Minutes</th>\n",
       "      <td>103594.0</td>\n",
       "      <td>15.0</td>\n",
       "      <td>39.0</td>\n",
       "      <td>0.0</td>\n",
       "      <td>0.0</td>\n",
       "      <td>0.0</td>\n",
       "      <td>13.0</td>\n",
       "      <td>1584.0</td>\n",
       "    </tr>\n",
       "  </tbody>\n",
       "</table>\n",
       "</div>"
      ],
      "text/plain": [
       "                                      count     mean      std   min      25%  \\\n",
       "Unnamed: 0                         103904.0  51952.0  29995.0   0.0  25976.0   \n",
       "id                                 103904.0  64924.0  37464.0   1.0  32534.0   \n",
       "Age                                103904.0     39.0     15.0   7.0     27.0   \n",
       "Flight Distance                    103904.0   1189.0    997.0  31.0    414.0   \n",
       "Inflight wifi service              103904.0      3.0      1.0   0.0      2.0   \n",
       "Departure/Arrival time convenient  103904.0      3.0      2.0   0.0      2.0   \n",
       "Ease of Online booking             103904.0      3.0      1.0   0.0      2.0   \n",
       "Gate location                      103904.0      3.0      1.0   0.0      2.0   \n",
       "Food and drink                     103904.0      3.0      1.0   0.0      2.0   \n",
       "Online boarding                    103904.0      3.0      1.0   0.0      2.0   \n",
       "Seat comfort                       103904.0      3.0      1.0   0.0      2.0   \n",
       "Inflight entertainment             103904.0      3.0      1.0   0.0      2.0   \n",
       "On-board service                   103904.0      3.0      1.0   0.0      2.0   \n",
       "Leg room service                   103904.0      3.0      1.0   0.0      2.0   \n",
       "Baggage handling                   103904.0      4.0      1.0   1.0      3.0   \n",
       "Checkin service                    103904.0      3.0      1.0   0.0      3.0   \n",
       "Inflight service                   103904.0      4.0      1.0   0.0      3.0   \n",
       "Cleanliness                        103904.0      3.0      1.0   0.0      2.0   \n",
       "Departure Delay in Minutes         103904.0     15.0     38.0   0.0      0.0   \n",
       "Arrival Delay in Minutes           103594.0     15.0     39.0   0.0      0.0   \n",
       "\n",
       "                                       50%      75%       max  \n",
       "Unnamed: 0                         51952.0  77927.0  103903.0  \n",
       "id                                 64856.0  97368.0  129880.0  \n",
       "Age                                   40.0     51.0      85.0  \n",
       "Flight Distance                      843.0   1743.0    4983.0  \n",
       "Inflight wifi service                  3.0      4.0       5.0  \n",
       "Departure/Arrival time convenient      3.0      4.0       5.0  \n",
       "Ease of Online booking                 3.0      4.0       5.0  \n",
       "Gate location                          3.0      4.0       5.0  \n",
       "Food and drink                         3.0      4.0       5.0  \n",
       "Online boarding                        3.0      4.0       5.0  \n",
       "Seat comfort                           4.0      5.0       5.0  \n",
       "Inflight entertainment                 4.0      4.0       5.0  \n",
       "On-board service                       4.0      4.0       5.0  \n",
       "Leg room service                       4.0      4.0       5.0  \n",
       "Baggage handling                       4.0      5.0       5.0  \n",
       "Checkin service                        3.0      4.0       5.0  \n",
       "Inflight service                       4.0      5.0       5.0  \n",
       "Cleanliness                            3.0      4.0       5.0  \n",
       "Departure Delay in Minutes             0.0     12.0    1592.0  \n",
       "Arrival Delay in Minutes               0.0     13.0    1584.0  "
      ]
     },
     "execution_count": 7,
     "metadata": {},
     "output_type": "execute_result"
    }
   ],
   "source": [
    "df.describe().round().T"
   ]
  },
  {
   "cell_type": "markdown",
   "metadata": {},
   "source": [
    "#### Analisis de datos categóricos"
   ]
  },
  {
   "cell_type": "code",
   "execution_count": 8,
   "metadata": {},
   "outputs": [
    {
     "data": {
      "text/html": [
       "<div>\n",
       "<style scoped>\n",
       "    .dataframe tbody tr th:only-of-type {\n",
       "        vertical-align: middle;\n",
       "    }\n",
       "\n",
       "    .dataframe tbody tr th {\n",
       "        vertical-align: top;\n",
       "    }\n",
       "\n",
       "    .dataframe thead th {\n",
       "        text-align: right;\n",
       "    }\n",
       "</style>\n",
       "<table border=\"1\" class=\"dataframe\">\n",
       "  <thead>\n",
       "    <tr style=\"text-align: right;\">\n",
       "      <th></th>\n",
       "      <th>count</th>\n",
       "      <th>unique</th>\n",
       "      <th>top</th>\n",
       "      <th>freq</th>\n",
       "    </tr>\n",
       "  </thead>\n",
       "  <tbody>\n",
       "    <tr>\n",
       "      <th>Gender</th>\n",
       "      <td>103904</td>\n",
       "      <td>2</td>\n",
       "      <td>Female</td>\n",
       "      <td>52727</td>\n",
       "    </tr>\n",
       "    <tr>\n",
       "      <th>Customer Type</th>\n",
       "      <td>103904</td>\n",
       "      <td>2</td>\n",
       "      <td>Loyal Customer</td>\n",
       "      <td>84923</td>\n",
       "    </tr>\n",
       "    <tr>\n",
       "      <th>Type of Travel</th>\n",
       "      <td>103904</td>\n",
       "      <td>2</td>\n",
       "      <td>Business travel</td>\n",
       "      <td>71655</td>\n",
       "    </tr>\n",
       "    <tr>\n",
       "      <th>Class</th>\n",
       "      <td>103904</td>\n",
       "      <td>3</td>\n",
       "      <td>Business</td>\n",
       "      <td>49665</td>\n",
       "    </tr>\n",
       "    <tr>\n",
       "      <th>satisfaction</th>\n",
       "      <td>103904</td>\n",
       "      <td>2</td>\n",
       "      <td>neutral or dissatisfied</td>\n",
       "      <td>58879</td>\n",
       "    </tr>\n",
       "  </tbody>\n",
       "</table>\n",
       "</div>"
      ],
      "text/plain": [
       "                 count unique                      top   freq\n",
       "Gender          103904      2                   Female  52727\n",
       "Customer Type   103904      2           Loyal Customer  84923\n",
       "Type of Travel  103904      2          Business travel  71655\n",
       "Class           103904      3                 Business  49665\n",
       "satisfaction    103904      2  neutral or dissatisfied  58879"
      ]
     },
     "execution_count": 8,
     "metadata": {},
     "output_type": "execute_result"
    }
   ],
   "source": [
    "df.describe(include='object').round().T"
   ]
  },
  {
   "cell_type": "markdown",
   "metadata": {},
   "source": [
    "### Revisión de datos nulos"
   ]
  },
  {
   "cell_type": "code",
   "execution_count": 9,
   "metadata": {},
   "outputs": [
    {
     "name": "stdout",
     "output_type": "stream",
     "text": [
      "Percentage of missing data:\n",
      "\n"
     ]
    },
    {
     "data": {
      "image/png": "[encoded data removed]",
      "text/plain": [
       "<Figure size 1000x500 with 1 Axes>"
      ]
     },
     "metadata": {},
     "output_type": "display_data"
    },
    {
     "name": "stdout",
     "output_type": "stream",
     "text": [
      "\n"
     ]
    }
   ],
   "source": [
    "print('Percentage of missing data:\\n')\n",
    "df.isna().mean().plot(kind='barh',figsize=(10,5))\n",
    "plt.show()\n",
    "print('')"
   ]
  },
  {
   "cell_type": "code",
   "execution_count": 13,
   "metadata": {},
   "outputs": [
    {
     "name": "stdout",
     "output_type": "stream",
     "text": [
      "Distinct values in column 'Unnamed: 0':\n",
      "[     0      1      2 ... 103901 103902 103903]\n",
      "--------------------\n",
      "Distinct values in column 'id':\n",
      "[ 70172   5047 110028 ...  68825  54173  62567]\n",
      "--------------------\n",
      "Distinct values in column 'Gender':\n",
      "['Male' 'Female']\n",
      "--------------------\n",
      "Distinct values in column 'Customer Type':\n",
      "['Loyal Customer' 'disloyal Customer']\n",
      "--------------------\n",
      "Distinct values in column 'Age':\n",
      "[13 25 26 61 47 52 41 20 24 12 53 33 45 38  9 17 43 58 23 57 49 36 22 31\n",
      " 15 35 67 37 40 34 39 50 29 54 21 28 27 69 60 48 59 46 30 66 64 44 51 32\n",
      " 19 42 16 11 62  8 56 68 55 18 65 72 70 63 10  7 14 80 74 71 85 73 76 77\n",
      " 75 79 78]\n",
      "--------------------\n",
      "Distinct values in column 'Type of Travel':\n",
      "['Personal Travel' 'Business travel']\n",
      "--------------------\n",
      "Distinct values in column 'Class':\n",
      "['Eco Plus' 'Business' 'Eco']\n",
      "--------------------\n",
      "Distinct values in column 'Flight Distance':\n",
      "[ 460  235 1142 ...  974 1479  400]\n",
      "--------------------\n",
      "Distinct values in column 'Inflight wifi service':\n",
      "[3 2 4 1 5 0]\n",
      "--------------------\n",
      "Distinct values in column 'Departure/Arrival time convenient':\n",
      "[4 2 5 3 1 0]\n",
      "--------------------\n",
      "Distinct values in column 'Ease of Online booking':\n",
      "[3 2 5 4 1 0]\n",
      "--------------------\n",
      "Distinct values in column 'Gate location':\n",
      "[1 3 2 5 4 0]\n",
      "--------------------\n",
      "Distinct values in column 'Food and drink':\n",
      "[5 1 2 4 3 0]\n",
      "--------------------\n",
      "Distinct values in column 'Online boarding':\n",
      "[3 5 2 1 4 0]\n",
      "--------------------\n",
      "Distinct values in column 'Seat comfort':\n",
      "[5 1 2 3 4 0]\n",
      "--------------------\n",
      "Distinct values in column 'Inflight entertainment':\n",
      "[5 1 2 3 4 0]\n",
      "--------------------\n",
      "Distinct values in column 'On-board service':\n",
      "[4 1 2 3 5 0]\n",
      "--------------------\n",
      "Distinct values in column 'Leg room service':\n",
      "[3 5 4 2 1 0]\n",
      "--------------------\n",
      "Distinct values in column 'Baggage handling':\n",
      "[4 3 5 1 2]\n",
      "--------------------\n",
      "Distinct values in column 'Checkin service':\n",
      "[4 1 3 5 2 0]\n",
      "--------------------\n",
      "Distinct values in column 'Inflight service':\n",
      "[5 4 3 1 2 0]\n",
      "--------------------\n",
      "Distinct values in column 'Cleanliness':\n",
      "[5 1 2 3 4 0]\n",
      "--------------------\n",
      "Distinct values in column 'Departure Delay in Minutes':\n",
      "[  25    1    0   11    9    4   28   43   49    7   17   52   54   27\n",
      "   18   19    3  109   23    8   14   10   51   39   13   30   64   20\n",
      "   45   44   31   81   35   67   22   40   91   21   15   29  105   12\n",
      "  162   24  141    6   34    2   97   16   99   37   66   53   36  209\n",
      "   60  149   26    5   59   62  113   38   83  176   46   73  199   56\n",
      "   93   70   80   96   57   95   74  172   63  175  143   48   47  101\n",
      "  118   76  220   33   55  232  170  173  124  112   94  243  128   92\n",
      "  270   90  110   50  144   71  315  158   88   65  111   32  156   41\n",
      "  154  150  228   72  137  126  161   42  174  103  313  136  160  412\n",
      "   69  185  114  135  142  147   85  235  125  391   84  138  102  196\n",
      "  140   77  187  131   82  100   86  165   87  129  204  435  166  177\n",
      "  123  139  116  108  167  285   61  117  106  190  168  211   89  324\n",
      "   75  202  290  189  203  120  157  119   68  299  292   78  258  104\n",
      "  121   58  222  317  320  200  134  248   79  240  169   98  249  145\n",
      "  238  246  132  107  127  180  151  480  241  130  268  115  133  171\n",
      "  164  330  438  472  163  122  326  186  155  223  332  447 1305  208\n",
      "  201  233  210  182  221  159  188  184  224  178  266  191  219  652\n",
      "  148  226  236  153  276  212  152  198  245  726  302  283  505  242\n",
      "  215  394  206  311  293  566  225  146  218  227  252  291  193  323\n",
      "  281  287  339  183  259  192  319  207  195  179  194  537  181  257\n",
      "  213  300  295  262  312  383  392  294  250  419  216  308  423  346\n",
      "  272  197  205  303  251  344  333  355  454  459  269  254  231  253\n",
      "  265  301  263  381  214  310  244  239  255  328  348  278  859  692\n",
      "  321  465  426  340  274  267  519  286  414  559  382  237  260  401\n",
      "  247  376  288  271  450  230  217  279  264  448  398  750  365  316\n",
      "  351  327  341  306  353  358  514  334  277  275  352  371  437  229\n",
      "  600  296  460  338  307  234  289  452  318  256  368  626  729  362\n",
      "  360  853  446  399  396  463  364  342  372  298  273  427  429  373\n",
      "  420  579  930 1017  921  370  378  595  491  469  345  410  610  388\n",
      "  748  336  433  455  347  444  282  978  322  496  389  359  415  329\n",
      "  933  402  331  280  407 1592  501  384  377  503  400  430  570  357\n",
      "  350  297  309  531  304  363  411  390  314  343  724  337]\n",
      "--------------------\n",
      "Distinct values in column 'Arrival Delay in Minutes':\n",
      "[1.800e+01 6.000e+00 0.000e+00 9.000e+00 2.300e+01 8.000e+00 3.500e+01\n",
      " 5.100e+01 1.000e+01 5.000e+00 4.000e+00 2.900e+01 4.400e+01 2.800e+01\n",
      " 1.200e+01 1.200e+02 2.400e+01 1.000e+00 2.000e+01 3.100e+01 1.500e+01\n",
      " 4.800e+01 2.600e+01 4.900e+01 2.000e+00 3.700e+01 5.000e+01 3.000e+00\n",
      " 1.900e+01 7.200e+01 1.100e+01 3.400e+01 6.200e+01 2.700e+01 5.200e+01\n",
      " 1.300e+01 8.200e+01 3.000e+01 1.600e+01 7.000e+00 1.220e+02 1.790e+02\n",
      " 1.250e+02 1.700e+01       nan 8.900e+01 1.010e+02 1.400e+01 6.100e+01\n",
      " 3.200e+01 3.300e+01 4.100e+01 1.910e+02 1.380e+02 5.300e+01 2.200e+01\n",
      " 5.700e+01 6.500e+01 7.600e+01 1.070e+02 9.200e+01 1.640e+02 2.100e+01\n",
      " 4.000e+01 5.500e+01 1.850e+02 6.300e+01 7.700e+01 8.600e+01 9.100e+01\n",
      " 1.000e+02 5.400e+01 3.600e+01 7.000e+01 1.390e+02 6.700e+01 1.630e+02\n",
      " 1.280e+02 1.800e+02 9.300e+01 1.210e+02 4.500e+01 1.050e+02 1.260e+02\n",
      " 5.600e+01 7.300e+01 2.120e+02 8.800e+01 2.410e+02 1.720e+02 1.750e+02\n",
      " 1.110e+02 9.900e+01 2.500e+01 4.200e+01 2.260e+02 4.600e+01 1.310e+02\n",
      " 2.600e+02 6.900e+01 1.420e+02 5.800e+01 7.500e+01 3.800e+01 6.600e+01\n",
      " 3.900e+01 1.030e+02 3.070e+02 1.560e+02 7.400e+01 1.090e+02 1.550e+02\n",
      " 6.000e+01 1.540e+02 4.300e+01 1.470e+02 2.170e+02 1.240e+02 4.700e+01\n",
      " 1.500e+02 1.160e+02 1.710e+02 8.400e+01 1.230e+02 1.650e+02 9.400e+01\n",
      " 8.300e+01 3.360e+02 5.900e+01 2.190e+02 8.700e+01 4.590e+02 6.800e+01\n",
      " 1.040e+02 1.330e+02 1.340e+02 8.100e+01 2.590e+02 8.000e+01 7.900e+01\n",
      " 2.220e+02 2.030e+02 3.540e+02 2.140e+02 7.800e+01 9.500e+01 7.100e+01\n",
      " 1.100e+02 8.500e+01 1.460e+02 1.960e+02 9.800e+01 4.700e+02 2.640e+02\n",
      " 1.490e+02 1.130e+02 1.190e+02 1.060e+02 2.160e+02 1.600e+02 2.850e+02\n",
      " 1.150e+02 1.860e+02 2.110e+02 3.230e+02 1.760e+02 1.670e+02 2.420e+02\n",
      " 2.840e+02 2.000e+02 1.450e+02 1.080e+02 1.740e+02 1.320e+02 3.130e+02\n",
      " 3.310e+02 2.880e+02 1.180e+02 2.250e+02 6.400e+01 3.240e+02 1.900e+02\n",
      " 1.770e+02 1.360e+02 3.200e+02 2.010e+02 2.710e+02 9.600e+01 1.520e+02\n",
      " 2.800e+02 1.410e+02 1.570e+02 1.530e+02 1.300e+02 1.400e+02 1.120e+02\n",
      " 2.570e+02 1.170e+02 2.350e+02 9.000e+01 1.810e+02 1.830e+02 1.270e+02\n",
      " 4.710e+02 2.270e+02 1.020e+02 1.350e+02 1.290e+02 2.550e+02 1.920e+02\n",
      " 3.480e+02 4.380e+02 4.460e+02 1.840e+02 1.680e+02 1.660e+02 3.100e+02\n",
      " 1.730e+02 2.610e+02 1.610e+02 2.360e+02 1.510e+02 1.820e+02 3.210e+02\n",
      " 2.330e+02 1.370e+02 4.330e+02 1.280e+03 2.180e+02 1.480e+02 1.440e+02\n",
      " 1.870e+02 2.060e+02 1.700e+02 2.090e+02 1.140e+02 2.240e+02 2.810e+02\n",
      " 2.230e+02 6.380e+02 2.200e+02 2.340e+02 9.700e+01 2.650e+02 3.880e+02\n",
      " 2.620e+02 2.210e+02 1.620e+02 2.670e+02 3.740e+02 2.280e+02 2.440e+02\n",
      " 2.470e+02 6.910e+02 1.430e+02 1.890e+02 1.970e+02 2.040e+02 3.190e+02\n",
      " 2.730e+02 3.290e+02 1.950e+02 4.860e+02 1.780e+02 2.700e+02 1.580e+02\n",
      " 1.990e+02 2.130e+02 3.830e+02 3.020e+02 6.000e+02 2.150e+02 1.690e+02\n",
      " 1.880e+02 2.660e+02 2.920e+02 2.870e+02 2.300e+02 2.390e+02 2.890e+02\n",
      " 2.980e+02 2.320e+02 3.630e+02 2.050e+02 2.950e+02 2.830e+02 5.240e+02\n",
      " 3.270e+02 2.460e+02 2.900e+02 3.140e+02 3.160e+02 3.040e+02 2.020e+02\n",
      " 2.960e+02 2.480e+02 3.860e+02 3.810e+02 1.590e+02 3.220e+02 4.600e+02\n",
      " 4.180e+02 3.490e+02 2.560e+02 2.490e+02 1.940e+02 3.150e+02 2.080e+02\n",
      " 1.930e+02 3.710e+02 2.290e+02 3.910e+02 4.540e+02 4.450e+02 2.100e+02\n",
      " 2.680e+02 2.530e+02 2.450e+02 3.370e+02 2.970e+02 4.360e+02 2.790e+02\n",
      " 3.000e+02 2.400e+02 2.370e+02 2.070e+02 1.980e+02 4.040e+02 2.430e+02\n",
      " 3.410e+02 2.780e+02 3.050e+02 8.600e+02 2.580e+02 7.020e+02 3.600e+02\n",
      " 4.930e+02 4.270e+02 3.350e+02 5.160e+02 2.720e+02 4.100e+02 5.550e+02\n",
      " 3.920e+02 2.520e+02 3.300e+02 3.820e+02 2.930e+02 2.770e+02 2.310e+02\n",
      " 2.750e+02 3.620e+02 2.760e+02 7.290e+02 3.570e+02 3.260e+02 2.500e+02\n",
      " 4.580e+02 3.340e+02 2.910e+02 3.800e+02 3.590e+02 3.460e+02 6.240e+02\n",
      " 3.770e+02 3.720e+02 4.290e+02 5.890e+02 3.010e+02 5.020e+02 2.990e+02\n",
      " 4.570e+02 2.380e+02 4.010e+02 4.400e+02 2.860e+02 2.740e+02 3.110e+02\n",
      " 3.030e+02 6.040e+02 7.170e+02 3.560e+02 4.090e+02 8.230e+02 2.940e+02\n",
      " 2.510e+02 4.310e+02 4.320e+02 4.030e+02 3.180e+02 5.030e+02 3.380e+02\n",
      " 3.640e+02 4.070e+02 3.680e+02 3.080e+02 2.540e+02 4.350e+02 2.630e+02\n",
      " 4.170e+02 3.580e+02 4.160e+02 5.610e+02 3.510e+02 9.520e+02 1.011e+03\n",
      " 9.240e+02 3.060e+02 4.240e+02 4.850e+02 4.430e+02 3.170e+02 5.180e+02\n",
      " 3.500e+02 4.440e+02 3.120e+02 3.970e+02 5.930e+02 3.930e+02 7.200e+02\n",
      " 3.660e+02 4.550e+02 2.690e+02 4.340e+02 9.700e+02 3.470e+02 3.090e+02\n",
      " 3.780e+02 3.790e+02 3.950e+02 3.700e+02 4.480e+02 9.200e+02 3.890e+02\n",
      " 3.550e+02 3.420e+02 1.584e+03 5.000e+02 4.020e+02 4.060e+02 4.840e+02\n",
      " 4.120e+02 5.670e+02 4.200e+02 3.990e+02 3.450e+02 3.530e+02 4.220e+02\n",
      " 2.820e+02 5.070e+02 4.250e+02 3.390e+02 3.520e+02 3.850e+02 7.050e+02\n",
      " 3.690e+02]\n",
      "--------------------\n",
      "Distinct values in column 'satisfaction':\n",
      "['neutral or dissatisfied' 'satisfied']\n",
      "--------------------\n"
     ]
    }
   ],
   "source": [
    "for column in df.columns:\n",
    "    unique_values = df[column].unique()\n",
    "    print(f\"Distinct values in column '{column}':\")\n",
    "    print(unique_values)\n",
    "    print(\"-\" * 20)  # Separator for clarity\n"
   ]
  },
  {
   "cell_type": "markdown",
   "metadata": {},
   "source": [
    "Análisis. Dados los pocos datos nulos que hay y que tampoco parece que hay algún nulo camuflado como valor, una opción es la de eliminar las filas directamente"
   ]
  },
  {
   "cell_type": "code",
   "execution_count": 14,
   "metadata": {},
   "outputs": [],
   "source": [
    "df.dropna(inplace=True)"
   ]
  },
  {
   "cell_type": "code",
   "execution_count": 15,
   "metadata": {},
   "outputs": [
    {
     "data": {
      "text/plain": [
       "(103594, 25)"
      ]
     },
     "execution_count": 15,
     "metadata": {},
     "output_type": "execute_result"
    }
   ],
   "source": [
    "df.shape"
   ]
  },
  {
   "cell_type": "code",
   "execution_count": 19,
   "metadata": {},
   "outputs": [
    {
     "data": {
      "image/png": "[encoded data removed]",
      "text/plain": [
       "<Figure size 1000x500 with 1 Axes>"
      ]
     },
     "metadata": {},
     "output_type": "display_data"
    }
   ],
   "source": [
    "plot_categorical_barh(df=df, col='satisfaction', title='Percentage of satisfaction levels')"
   ]
  },
  {
   "cell_type": "markdown",
   "metadata": {},
   "source": [
    "### Análisis de impacto discriminador en las diferentes categorias"
   ]
  },
  {
   "cell_type": "code",
   "execution_count": 30,
   "metadata": {},
   "outputs": [
    {
     "name": "stderr",
     "output_type": "stream",
     "text": [
      "C:\\Users\\jvazq\\AppData\\Local\\Temp\\ipykernel_1316\\3381132561.py:19: FutureWarning: Downcasting behavior in `replace` is deprecated and will be removed in a future version. To retain the old behavior, explicitly call `result.infer_objects(copy=False)`. To opt-in to the future behavior, set `pd.set_option('future.no_silent_downcasting', True)`\n",
      "  .replace({'satisfaction': {'neutral or dissatisfied': 0, 'satisfied': 1}})\n"
     ]
    },
    {
     "data": {
      "image/png": "[encoded data removed]",
      "text/plain": [
       "<Figure size 1000x500 with 1 Axes>"
      ]
     },
     "metadata": {},
     "output_type": "display_data"
    }
   ],
   "source": [
    "plot_satisfaction_pct(df=df, \n",
    "                     col='Gender',\n",
    "                     title='Percentage Satisifed by Gender')"
   ]
  },
  {
   "cell_type": "markdown",
   "metadata": {},
   "source": [
    "#### Convertir las características de evaluación numérica en categóricas"
   ]
  },
  {
   "cell_type": "code",
   "execution_count": 32,
   "metadata": {},
   "outputs": [],
   "source": [
    "for col in ['Inflight wifi service', 'Departure/Arrival time convenient', 'Ease of Online booking',\n",
    "            'Gate location', 'Food and drink', 'Online boarding', 'Seat comfort', 'Inflight entertainment',\n",
    "            'On-board service', 'Leg room service','Checkin service', 'Inflight service',\n",
    "            'Cleanliness']:\n",
    "\n",
    "    df[col] = pd.Categorical(df[col], categories=[0, 1, 2, 3, 4, 5], ordered=True)\n",
    "\n",
    "for col in ['Baggage handling']:\n",
    "\n",
    "    df[col] = pd.Categorical(df[col], categories=[1, 2, 3, 4, 5], ordered=True)"
   ]
  },
  {
   "cell_type": "code",
   "execution_count": 35,
   "metadata": {},
   "outputs": [
    {
     "name": "stdout",
     "output_type": "stream",
     "text": [
      "<class 'pandas.core.frame.DataFrame'>\n",
      "Index: 103594 entries, 0 to 103903\n",
      "Data columns (total 23 columns):\n",
      " #   Column                             Non-Null Count   Dtype   \n",
      "---  ------                             --------------   -----   \n",
      " 0   Gender                             103594 non-null  object  \n",
      " 1   Customer Type                      103594 non-null  object  \n",
      " 2   Age                                103594 non-null  int64   \n",
      " 3   Type of Travel                     103594 non-null  object  \n",
      " 4   Class                              103594 non-null  object  \n",
      " 5   Flight Distance                    103594 non-null  int64   \n",
      " 6   Inflight wifi service              103594 non-null  category\n",
      " 7   Departure/Arrival time convenient  103594 non-null  category\n",
      " 8   Ease of Online booking             103594 non-null  category\n",
      " 9   Gate location                      103594 non-null  category\n",
      " 10  Food and drink                     103594 non-null  category\n",
      " 11  Online boarding                    103594 non-null  category\n",
      " 12  Seat comfort                       103594 non-null  category\n",
      " 13  Inflight entertainment             103594 non-null  category\n",
      " 14  On-board service                   103594 non-null  category\n",
      " 15  Leg room service                   103594 non-null  category\n",
      " 16  Baggage handling                   103594 non-null  category\n",
      " 17  Checkin service                    103594 non-null  category\n",
      " 18  Inflight service                   103594 non-null  category\n",
      " 19  Cleanliness                        103594 non-null  category\n",
      " 20  Departure Delay in Minutes         103594 non-null  int64   \n",
      " 21  Arrival Delay in Minutes           103594 non-null  float64 \n",
      " 22  satisfaction                       103594 non-null  object  \n",
      "dtypes: category(14), float64(1), int64(3), object(5)\n",
      "memory usage: 9.3+ MB\n"
     ]
    }
   ],
   "source": [
    "df.info()"
   ]
  },
  {
   "cell_type": "markdown",
   "metadata": {},
   "source": [
    "#### Drop id columns Unnamed: 0 and id"
   ]
  },
  {
   "cell_type": "code",
   "execution_count": 34,
   "metadata": {},
   "outputs": [],
   "source": [
    "df = df.drop(df.columns[[0, 1]], axis=1) \n"
   ]
  },
  {
   "cell_type": "markdown",
   "metadata": {},
   "source": [
    "#### Handling features with too many distinct values like flight distance"
   ]
  },
  {
   "cell_type": "code",
   "execution_count": 36,
   "metadata": {},
   "outputs": [],
   "source": [
    "# Capping outliers using percentiles\n",
    "#df['flight_distance'] = np.clip(df['flight_distance'], df['flight_distance'].quantile(0.01), df['flight_distance'].quantile(0.99))\n",
    "\n",
    "# Log transformation\n",
    "df['Log Flight Distance'] = np.log1p(df['Flight Distance'])  # log1p to handle zero values\n"
   ]
  },
  {
   "cell_type": "code",
   "execution_count": 37,
   "metadata": {},
   "outputs": [],
   "source": [
    "from sklearn.preprocessing import StandardScaler, MinMaxScaler\n",
    "\n",
    "scaler = StandardScaler()  # or MinMaxScaler()\n",
    "df['Scaled Flight Distance'] = scaler.fit_transform(df[['Flight Distance']])"
   ]
  },
  {
   "cell_type": "code",
   "execution_count": 39,
   "metadata": {},
   "outputs": [],
   "source": [
    "df = df.drop(['Log Flight Distance', 'Scaled Flight Distance'], axis=1)"
   ]
  },
  {
   "cell_type": "markdown",
   "metadata": {},
   "source": [
    "#### Reviewing correlation of delays with satisfaction"
   ]
  },
  {
   "cell_type": "code",
   "execution_count": 41,
   "metadata": {},
   "outputs": [],
   "source": [
    "df['satisfaction_binary'] = df['satisfaction'].map({'neutral or dissatisfied': 0, 'satisfied': 1})\n"
   ]
  },
  {
   "cell_type": "code",
   "execution_count": 42,
   "metadata": {},
   "outputs": [
    {
     "name": "stdout",
     "output_type": "stream",
     "text": [
      "Correlation of departure delay with target: -0.050515080224791085\n",
      "Correlation of arrival delay with target: -0.05758182372580995\n"
     ]
    }
   ],
   "source": [
    "correlation_departure_delay = df['Departure Delay in Minutes'].corr(df['satisfaction_binary'])\n",
    "correlation_arrival_delay = df['Arrival Delay in Minutes'].corr(df['satisfaction_binary'])\n",
    "print(f\"Correlation of departure delay with target: {correlation_departure_delay}\")\n",
    "print(f\"Correlation of arrival delay with target: {correlation_arrival_delay}\")"
   ]
  },
  {
   "cell_type": "code",
   "execution_count": 43,
   "metadata": {},
   "outputs": [],
   "source": [
    "\n",
    "df = df.drop(['satisfaction_binary'], axis=1)"
   ]
  },
  {
   "cell_type": "code",
   "execution_count": 44,
   "metadata": {},
   "outputs": [],
   "source": [
    "df.to_csv('data/f5_airlines_after_eda.csv', index=False) \n"
   ]
  },
  {
   "cell_type": "markdown",
   "metadata": {},
   "source": [
    "### Model training"
   ]
  }
 ],
 "metadata": {
  "kernelspec": {
   "display_name": "f5airlines_jv",
   "language": "python",
   "name": "python3"
  },
  "language_info": {
   "codemirror_mode": {
    "name": "ipython",
    "version": 3
   },
   "file_extension": ".py",
   "mimetype": "text/x-python",
   "name": "python",
   "nbconvert_exporter": "python",
   "pygments_lexer": "ipython3",
   "version": "3.12.7"
  }
 },
 "nbformat": 4,
 "nbformat_minor": 2
}
